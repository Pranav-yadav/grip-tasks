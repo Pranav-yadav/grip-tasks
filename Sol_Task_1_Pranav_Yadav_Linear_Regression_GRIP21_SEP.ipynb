{
  "nbformat": 4,
  "nbformat_minor": 0,
  "metadata": {
    "colab": {
      "name": "Sol. Task#1 - Pranav Yadav - Linear Regression #GRIP21 SEP.ipynb",
      "provenance": [],
      "collapsed_sections": []
    },
    "kernelspec": {
      "name": "python3",
      "display_name": "Python 3"
    },
    "language_info": {
      "name": "python"
    }
  },
  "cells": [
    {
      "cell_type": "markdown",
      "metadata": {
        "id": "cSopTaO0py8X"
      },
      "source": [
        "# **Author:** Pranav Yadav\n",
        "   - LinkedIn: [yadavpranav](https://www.linkedin.com/in/yadavpranav/)\n",
        "   - GitHub: [pranav-yadav](https://github.com/pranav-yadav)\n",
        "\n",
        "# **Data Science & Business Analytics Tasks**\n",
        "## **Task #1:** Prediction using Supervised ML\n",
        "Submitted in fulfillment of #GRIP21 SEP"
      ]
    },
    {
      "cell_type": "markdown",
      "metadata": {
        "id": "Odu6EV5bqfuT"
      },
      "source": [
        "* Task: Predicting the percentage score of a student based on number of study hours\n",
        "\n",
        "* Dataset: [Student Scores CSV](https://bit.ly/w-data)\n",
        "\n",
        "* ML Algo type: Linear Regression with Python Scikit Learn (Supervised ML)"
      ]
    },
    {
      "cell_type": "code",
      "metadata": {
        "id": "pX6QX4ZZpR9B"
      },
      "source": [
        "# Importing required libraries\n",
        "import pandas as pd\n",
        "import numpy as np\n",
        "import matplotlib.pyplot as plt\n",
        "%matplotlib inline"
      ],
      "execution_count": 1,
      "outputs": []
    },
    {
      "cell_type": "code",
      "metadata": {
        "colab": {
          "base_uri": "https://localhost:8080/",
          "height": 377
        },
        "id": "4Qy_Bo7gs4vt",
        "outputId": "644019a4-dc42-43ed-8a2f-0801a72ca4a4"
      },
      "source": [
        "# Reading (Importing) data from remote link\n",
        "dataset_url = \"https://bit.ly/w-data\"\n",
        "data = pd.read_csv(dataset_url)\n",
        "\n",
        "print(\"Data imported successfully\")\n",
        "data.head(10)"
      ],
      "execution_count": 2,
      "outputs": [
        {
          "output_type": "stream",
          "name": "stdout",
          "text": [
            "Data imported successfully\n"
          ]
        },
        {
          "output_type": "execute_result",
          "data": {
            "text/html": [
              "<div>\n",
              "<style scoped>\n",
              "    .dataframe tbody tr th:only-of-type {\n",
              "        vertical-align: middle;\n",
              "    }\n",
              "\n",
              "    .dataframe tbody tr th {\n",
              "        vertical-align: top;\n",
              "    }\n",
              "\n",
              "    .dataframe thead th {\n",
              "        text-align: right;\n",
              "    }\n",
              "</style>\n",
              "<table border=\"1\" class=\"dataframe\">\n",
              "  <thead>\n",
              "    <tr style=\"text-align: right;\">\n",
              "      <th></th>\n",
              "      <th>Hours</th>\n",
              "      <th>Scores</th>\n",
              "    </tr>\n",
              "  </thead>\n",
              "  <tbody>\n",
              "    <tr>\n",
              "      <th>0</th>\n",
              "      <td>2.5</td>\n",
              "      <td>21</td>\n",
              "    </tr>\n",
              "    <tr>\n",
              "      <th>1</th>\n",
              "      <td>5.1</td>\n",
              "      <td>47</td>\n",
              "    </tr>\n",
              "    <tr>\n",
              "      <th>2</th>\n",
              "      <td>3.2</td>\n",
              "      <td>27</td>\n",
              "    </tr>\n",
              "    <tr>\n",
              "      <th>3</th>\n",
              "      <td>8.5</td>\n",
              "      <td>75</td>\n",
              "    </tr>\n",
              "    <tr>\n",
              "      <th>4</th>\n",
              "      <td>3.5</td>\n",
              "      <td>30</td>\n",
              "    </tr>\n",
              "    <tr>\n",
              "      <th>5</th>\n",
              "      <td>1.5</td>\n",
              "      <td>20</td>\n",
              "    </tr>\n",
              "    <tr>\n",
              "      <th>6</th>\n",
              "      <td>9.2</td>\n",
              "      <td>88</td>\n",
              "    </tr>\n",
              "    <tr>\n",
              "      <th>7</th>\n",
              "      <td>5.5</td>\n",
              "      <td>60</td>\n",
              "    </tr>\n",
              "    <tr>\n",
              "      <th>8</th>\n",
              "      <td>8.3</td>\n",
              "      <td>81</td>\n",
              "    </tr>\n",
              "    <tr>\n",
              "      <th>9</th>\n",
              "      <td>2.7</td>\n",
              "      <td>25</td>\n",
              "    </tr>\n",
              "  </tbody>\n",
              "</table>\n",
              "</div>"
            ],
            "text/plain": [
              "   Hours  Scores\n",
              "0    2.5      21\n",
              "1    5.1      47\n",
              "2    3.2      27\n",
              "3    8.5      75\n",
              "4    3.5      30\n",
              "5    1.5      20\n",
              "6    9.2      88\n",
              "7    5.5      60\n",
              "8    8.3      81\n",
              "9    2.7      25"
            ]
          },
          "metadata": {},
          "execution_count": 2
        }
      ]
    },
    {
      "cell_type": "markdown",
      "metadata": {
        "id": "JTs1ChoCtn69"
      },
      "source": [
        "Graphical Analysis of data by plotting the dataset on 2D graph using Matplotlib"
      ]
    },
    {
      "cell_type": "code",
      "metadata": {
        "colab": {
          "base_uri": "https://localhost:8080/",
          "height": 295
        },
        "id": "PHOagMsUti9e",
        "outputId": "5b938a1e-3cb9-46e8-e93e-f4ba6cd4d08c"
      },
      "source": [
        "# Plotting the distribution of scores\n",
        "data.plot(x = \"Hours\", y = \"Scores\", style = \"o\")\n",
        "plt.title(\"Hours vs Percentage\")\n",
        "plt.xlabel(\"Hours Studied\")\n",
        "plt.ylabel(\"Percentage Score\")\n",
        "plt.show()"
      ],
      "execution_count": 3,
      "outputs": [
        {
          "output_type": "display_data",
          "data": {
            "image/png": "[encoded data removed]",
            "text/plain": [
              "<Figure size 432x288 with 1 Axes>"
            ]
          },
          "metadata": {
            "needs_background": "light"
          }
        }
      ]
    },
    {
      "cell_type": "markdown",
      "metadata": {
        "id": "5Zt8nNviu1ed"
      },
      "source": [
        "From the above graph, we can confer that there is direct **Positive Linear Relation** between the number of hours the student studied and the percentage score."
      ]
    },
    {
      "cell_type": "markdown",
      "metadata": {
        "id": "EiRy4inOvdXL"
      },
      "source": [
        "### Preprocessing the data\n",
        "Let's divide the data into Inputs (`Attributes`) and Outputs (`Labels`)"
      ]
    },
    {
      "cell_type": "code",
      "metadata": {
        "id": "95-5lUDTvcfv"
      },
      "source": [
        "X = data.iloc[:, : -1].values\n",
        "y = data.iloc[:, 1].values"
      ],
      "execution_count": 4,
      "outputs": []
    },
    {
      "cell_type": "markdown",
      "metadata": {
        "id": "aenRXraMwgJe"
      },
      "source": [
        "* Splitting of Data: Let's split the data inti \n",
        "training and testing sets; using Scikit-Learn's built-in `train_test_split()` method"
      ]
    },
    {
      "cell_type": "code",
      "metadata": {
        "colab": {
          "base_uri": "https://localhost:8080/"
        },
        "id": "VVNhHPM1xEVl",
        "outputId": "667b0fdb-4991-4486-ffd1-358572227e77"
      },
      "source": [
        "# Importing from Scikit-Learn\n",
        "from sklearn.model_selection import train_test_split\n",
        "\n",
        "X_train, X_test, y_train, y_test = train_test_split(X, y,\n",
        "                                                    test_size = 0.2,\n",
        "                                                    train_size = 0.8,\n",
        "                                                    random_state = 0)\n",
        "\n",
        "print(\"Splitting Completed\")"
      ],
      "execution_count": 6,
      "outputs": [
        {
          "output_type": "stream",
          "name": "stdout",
          "text": [
            "Splitting Completed\n"
          ]
        }
      ]
    },
    {
      "cell_type": "markdown",
      "metadata": {
        "id": "UxEW6C-LzaD2"
      },
      "source": [
        "### Training the model\n",
        "After splitting the data into training and testing sets, let's define and train our model.\n",
        "As, there is Linear Realation as seen after plotting the original data we can use `LinearRegression` algorithm from Scikit-Learn\n",
        " "
      ]
    },
    {
      "cell_type": "code",
      "metadata": {
        "colab": {
          "base_uri": "https://localhost:8080/"
        },
        "id": "64oosGzqzGz7",
        "outputId": "92405a40-53c3-41bf-8b2c-66d52b2feaa4"
      },
      "source": [
        "# Importing from Scikit-Learn\n",
        "from sklearn.linear_model import LinearRegression\n",
        "# define the regressor\n",
        "reg_model = LinearRegression() \n",
        "# fitting the data to the model\n",
        "reg_model.fit(X_train, y_train)\n",
        "\n",
        "print(\"Training Completed\")"
      ],
      "execution_count": 7,
      "outputs": [
        {
          "output_type": "stream",
          "name": "stdout",
          "text": [
            "Training Completed\n"
          ]
        }
      ]
    },
    {
      "cell_type": "code",
      "metadata": {
        "colab": {
          "base_uri": "https://localhost:8080/",
          "height": 279
        },
        "id": "JnOKccin1VdN",
        "outputId": "c262e5b6-58aa-4614-a49e-c15ea4edf74a"
      },
      "source": [
        "# defining the Regression Line\n",
        "reg_line = reg_model.coef_ * X + reg_model.intercept_\n",
        "\n",
        "# Plotting the Regression Line on original data\n",
        "plt.scatter(X, y)\n",
        "plt.xlabel(\"Hours Studied\")\n",
        "plt.ylabel(\"Percentage Score\")\n",
        "plt.plot(X, reg_line)\n",
        "plt.show()"
      ],
      "execution_count": 8,
      "outputs": [
        {
          "output_type": "display_data",
          "data": {
            "image/png": "[encoded data removed]",
            "text/plain": [
              "<Figure size 432x288 with 1 Axes>"
            ]
          },
          "metadata": {
            "needs_background": "light"
          }
        }
      ]
    },
    {
      "cell_type": "markdown",
      "metadata": {
        "id": "cFYyb_vp2OZk"
      },
      "source": [
        "### Predictions\n",
        "* Predictions on test data: After training (fitting) the model using `X_train, y_train` let's test our model using test data i.e., `X_test`"
      ]
    },
    {
      "cell_type": "code",
      "metadata": {
        "colab": {
          "base_uri": "https://localhost:8080/"
        },
        "id": "UEuNsjJ-3CMc",
        "outputId": "cefbb8e4-25bf-49b0-93ac-33f5adf2299a"
      },
      "source": [
        "# testing data in hrs\n",
        "print(\"Testing Data:\\n\", X_test)\n",
        "\n",
        "# predicting the scores for test data\n",
        "y_preds = reg_model.predict(X_test)"
      ],
      "execution_count": 9,
      "outputs": [
        {
          "output_type": "stream",
          "name": "stdout",
          "text": [
            "Testing Data:\n",
            " [[1.5]\n",
            " [3.2]\n",
            " [7.4]\n",
            " [2.5]\n",
            " [5.9]]\n"
          ]
        }
      ]
    },
    {
      "cell_type": "code",
      "metadata": {
        "colab": {
          "base_uri": "https://localhost:8080/",
          "height": 204
        },
        "id": "YdQcBPOT3_0K",
        "outputId": "83045439-8c31-47ef-8b58-2943875c64d6"
      },
      "source": [
        "# Compairing the Actual vs Predicted; test data\n",
        "df = pd.DataFrame({\"Actual\": y_test, \"Predicted\": y_preds})\n",
        "df"
      ],
      "execution_count": 10,
      "outputs": [
        {
          "output_type": "execute_result",
          "data": {
            "text/html": [
              "<div>\n",
              "<style scoped>\n",
              "    .dataframe tbody tr th:only-of-type {\n",
              "        vertical-align: middle;\n",
              "    }\n",
              "\n",
              "    .dataframe tbody tr th {\n",
              "        vertical-align: top;\n",
              "    }\n",
              "\n",
              "    .dataframe thead th {\n",
              "        text-align: right;\n",
              "    }\n",
              "</style>\n",
              "<table border=\"1\" class=\"dataframe\">\n",
              "  <thead>\n",
              "    <tr style=\"text-align: right;\">\n",
              "      <th></th>\n",
              "      <th>Actual</th>\n",
              "      <th>Predicted</th>\n",
              "    </tr>\n",
              "  </thead>\n",
              "  <tbody>\n",
              "    <tr>\n",
              "      <th>0</th>\n",
              "      <td>20</td>\n",
              "      <td>16.884145</td>\n",
              "    </tr>\n",
              "    <tr>\n",
              "      <th>1</th>\n",
              "      <td>27</td>\n",
              "      <td>33.732261</td>\n",
              "    </tr>\n",
              "    <tr>\n",
              "      <th>2</th>\n",
              "      <td>69</td>\n",
              "      <td>75.357018</td>\n",
              "    </tr>\n",
              "    <tr>\n",
              "      <th>3</th>\n",
              "      <td>30</td>\n",
              "      <td>26.794801</td>\n",
              "    </tr>\n",
              "    <tr>\n",
              "      <th>4</th>\n",
              "      <td>62</td>\n",
              "      <td>60.491033</td>\n",
              "    </tr>\n",
              "  </tbody>\n",
              "</table>\n",
              "</div>"
            ],
            "text/plain": [
              "   Actual  Predicted\n",
              "0      20  16.884145\n",
              "1      27  33.732261\n",
              "2      69  75.357018\n",
              "3      30  26.794801\n",
              "4      62  60.491033"
            ]
          },
          "metadata": {},
          "execution_count": 10
        }
      ]
    },
    {
      "cell_type": "markdown",
      "metadata": {
        "id": "vALIKYnk40mC"
      },
      "source": [
        "* Predictions on unknown data: Let's predict the percentage score of a student who studied for `9.25hrs / day` using our model i.e.,\n",
        "\n",
        " - Given: Hours Studied = `9.25hrs / day`\n",
        " - To predict: Percentage Score / 100\n",
        "\n"
      ]
    },
    {
      "cell_type": "code",
      "metadata": {
        "colab": {
          "base_uri": "https://localhost:8080/"
        },
        "id": "3VPYdVDy5QGI",
        "outputId": "4f85ba72-8806-49db-d615-6722cb066ed4"
      },
      "source": [
        "# predicting score for unknown data\n",
        "hrs = 9.25\n",
        "\n",
        "unk_pred = reg_model.predict([[hrs]])\n",
        "print(\"No. of Hours Studied = \", hrs, \"hrs/day\")\n",
        "print(\"Prdicted Percentage Score = \", unk_pred[0])"
      ],
      "execution_count": 15,
      "outputs": [
        {
          "output_type": "stream",
          "name": "stdout",
          "text": [
            "No. of Hours Studied =  9.25 hrs/day\n",
            "Prdicted Percentage Score =  93.69173248737539\n"
          ]
        }
      ]
    },
    {
      "cell_type": "markdown",
      "metadata": {
        "id": "taxPSTwVAVv2"
      },
      "source": [
        "Hence, student who studied for `9.25 hrs/day` should get the score `93.69173248737539 %` "
      ]
    },
    {
      "cell_type": "markdown",
      "metadata": {
        "id": "9Pxs93mJ7RAY"
      },
      "source": [
        "### Model Evaluation\n",
        "Let's evaluate the performance of our model (algo) using MAE (Mean Absolute Error), with `y_test, y_preds`"
      ]
    },
    {
      "cell_type": "code",
      "metadata": {
        "colab": {
          "base_uri": "https://localhost:8080/"
        },
        "id": "OPgIQAJB70pH",
        "outputId": "83325d7f-05ba-4689-8e69-6c952cf95a70"
      },
      "source": [
        "# Import from Scikit-Learn\n",
        "from sklearn.metrics import mean_absolute_error\n",
        "\n",
        "print(\"Mean Absolute Error:\", mean_absolute_error(y_test, y_preds))"
      ],
      "execution_count": 16,
      "outputs": [
        {
          "output_type": "stream",
          "name": "stdout",
          "text": [
            "Mean Absolute Error: 4.183859899002982\n"
          ]
        }
      ]
    }
  ]
}